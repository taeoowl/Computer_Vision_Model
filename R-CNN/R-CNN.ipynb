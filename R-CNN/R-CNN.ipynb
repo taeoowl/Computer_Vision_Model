{
 "cells": [
  {
   "cell_type": "code",
   "execution_count": null,
   "id": "fecd63d6",
   "metadata": {},
   "outputs": [],
   "source": [
    "# # 1. Region proposals\n",
    "# - selective search\n",
    "# # 2. CNN\n",
    "# - IoU를 통한 샘플 분류\n",
    "# - pre-train된 Alexnet 수정\n",
    "# # 3. Linear SVM\n",
    "# - Hard Negaive Mining\n",
    "# - BB Regressor\n",
    "# - NMS"
   ]
  },
  {
   "cell_type": "code",
   "execution_count": 23,
   "id": "a8591996",
   "metadata": {},
   "outputs": [],
   "source": [
    "import numpy as np"
   ]
  },
  {
   "cell_type": "code",
   "execution_count": 53,
   "id": "1a521408",
   "metadata": {},
   "outputs": [],
   "source": [
    "img = cv2.imread('./car.jpg') #channel_last\n",
    "tar_bb = [156, 97, 351, 270]"
   ]
  },
  {
   "cell_type": "code",
   "execution_count": 28,
   "id": "d5703a5e",
   "metadata": {},
   "outputs": [],
   "source": [
    "## 1. Region proposals\n",
    "# selective search\n",
    "import cv2\n",
    "\n",
    "sel_search = cv2.ximgproc.segmentation.createSelectiveSearchSegmentation()\n",
    "sel_search.setBaseImage(img)\n",
    "sel_search.switchToSelectiveSearchFast() # 2000개 내외\n",
    "pps_bb = sel_search.process() # 좌표생성\n",
    "pps_bb[:, 2] += pps_bb[:, 0] \n",
    "pps_bb[:, 3] += pps_bb[:, 1]"
   ]
  },
  {
   "cell_type": "code",
   "execution_count": 45,
   "id": "8423e8cf",
   "metadata": {},
   "outputs": [],
   "source": [
    "# # 2. CNN\n",
    "# - IoU를 통한 샘플 분류\n",
    "# IoU가 0.5보다 크면 pos_sample/neg_sample로 분류\n",
    "\n",
    "def IoU(tar_bb, pps_bb):\n",
    "    # bb = (xmin, ymin, xmax, ymax)\n",
    "    tar_area = (tar_bb[2]-tar_bb[0]) * (tar_bb[3]-tar_bb[1])\n",
    "    pps_area = (pps_bb[2]-pps_bb[0]) * (pps_bb[3]-pps_bb[1])\n",
    "\n",
    "    # obtain x1, y1, x2, y2 of the intersection\n",
    "    x1 = max(tar_bb[0], pps_bb[0])\n",
    "    y1 = max(tar_bb[1], pps_bb[1])\n",
    "    x2 = min(tar_bb[2], pps_bb[2])\n",
    "    y2 = min(tar_bb[3], pps_bb[3])\n",
    "\n",
    "    # compute the width and height of the intersection\n",
    "    w = max(0, x2 - x1 + 1)\n",
    "    h = max(0, y2 - y1 + 1)\n",
    "\n",
    "    inter = w * h\n",
    "    iou = inter / (tar_area+pps_area-inter)\n",
    "    return iou"
   ]
  },
  {
   "cell_type": "code",
   "execution_count": 48,
   "id": "7cd17d42",
   "metadata": {},
   "outputs": [],
   "source": [
    "# pps_bb 별 IoU를 통해 샘플 분류\n",
    "pos_sample = []\n",
    "neg_sample = []\n",
    "for i in pps_bb:\n",
    "    if IoU(tar_bb, i) < 0.5:\n",
    "        neg_sample.append(i)\n",
    "    else:\n",
    "        pos_sample.append(i)\n",
    "    "
   ]
  },
  {
   "cell_type": "code",
   "execution_count": 72,
   "id": "7979560d",
   "metadata": {
    "scrolled": true
   },
   "outputs": [],
   "source": [
    "# fine-tuning을 위해서 pre-train된 AlexNet을 불러와 수정\n",
    "import torch.nn as nn\n",
    "import torch.optim as optim\n",
    "import torchvision.models as models\n",
    "num_classes = 5\n",
    "model = models.alexnet(pretrained=True)\n",
    "model.classifier[6] = nn.Linear(4096, num_classes+1)"
   ]
  },
  {
   "cell_type": "code",
   "execution_count": 75,
   "id": "2ac34761",
   "metadata": {},
   "outputs": [
    {
     "data": {
      "text/plain": [
       "Sequential(\n",
       "  (0): Dropout(p=0.5, inplace=False)\n",
       "  (1): Linear(in_features=9216, out_features=4096, bias=True)\n",
       "  (2): ReLU(inplace=True)\n",
       "  (3): Dropout(p=0.5, inplace=False)\n",
       "  (4): Linear(in_features=4096, out_features=4096, bias=True)\n",
       "  (5): ReLU(inplace=True)\n",
       "  (6): Linear(in_features=4096, out_features=6, bias=True)\n",
       ")"
      ]
     },
     "execution_count": 75,
     "metadata": {},
     "output_type": "execute_result"
    }
   ],
   "source": [
    "model.classifier"
   ]
  },
  {
   "cell_type": "code",
   "execution_count": null,
   "id": "d1332f9a",
   "metadata": {},
   "outputs": [],
   "source": [
    "# 32(pos) + 96(neg) = 128개를 하나의 batch로 fine-tuning 과정 진행"
   ]
  },
  {
   "cell_type": "code",
   "execution_count": null,
   "id": "253e609b",
   "metadata": {},
   "outputs": [],
   "source": [
    "# # 3. Linear SVM\n",
    "# - Hard Negaive Mining\n",
    "# - BB Regressor\n",
    "# - NMS"
   ]
  }
 ],
 "metadata": {
  "kernelspec": {
   "display_name": "taeoowl",
   "language": "python",
   "name": "taeoowl"
  },
  "language_info": {
   "codemirror_mode": {
    "name": "ipython",
    "version": 3
   },
   "file_extension": ".py",
   "mimetype": "text/x-python",
   "name": "python",
   "nbconvert_exporter": "python",
   "pygments_lexer": "ipython3",
   "version": "3.7.11"
  }
 },
 "nbformat": 4,
 "nbformat_minor": 5
}
